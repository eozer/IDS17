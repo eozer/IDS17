{
 "cells": [
  {
   "cell_type": "markdown",
   "metadata": {},
   "source": [
    "# HASV2 - Random forest classifier\n",
    "Now we will do the same thing, but instead lof logistic regression classifier, we will use random forest classifier"
   ]
  },
  {
   "cell_type": "markdown",
   "metadata": {},
   "source": [
    "## Description of variables\n",
    "\n",
    "Inside the `data/hasy-data-labels.csv` file you can find the following variables:\n",
    "\n",
    "- `path`: The path to the **32x32** images, e.g. hasy-data/v2-00000.png\n",
    "- `symbol_id`: Symbol id of the image, e.g. character *A* corresponds to symbold id *31*\n",
    "- `latex`: The latex representation of the symbol, e.g. *\\rightarrow*\n",
    "- `user_id`: Indicates that which symbol belongs to which **user**"
   ]
  },
  {
   "cell_type": "markdown",
   "metadata": {},
   "source": [
    "# Import the important libraries\n",
    "\n",
    "Sklearn depends on the scipy and without installation of conda, it is a little bit problematic in the windows OS. One needs to install required libraries **manually**"
   ]
  },
  {
   "cell_type": "code",
   "execution_count": 1,
   "metadata": {
    "collapsed": false
   },
   "outputs": [
    {
     "name": "stderr",
     "output_type": "stream",
     "text": [
      "c:\\users\\eozer\\appdata\\local\\programs\\python\\python35-32\\lib\\site-packages\\sklearn\\cross_validation.py:41: DeprecationWarning: This module was deprecated in version 0.18 in favor of the model_selection module into which all the refactored classes and functions are moved. Also note that the interface of the new CV iterators are different from that of this module. This module will be removed in 0.20.\n",
      "  \"This module will be removed in 0.20.\", DeprecationWarning)\n"
     ]
    }
   ],
   "source": [
    "import numpy as np\n",
    "import pandas as pd\n",
    "import matplotlib.pyplot as plt\n",
    "from sklearn.linear_model import LogisticRegression\n",
    "from sklearn.cross_validation import train_test_split\n",
    "from sklearn import metrics\n",
    "from sklearn.cross_validation import cross_val_score\n",
    "from sklearn.utils import shuffle\n",
    "from PIL import Image, ImageDraw\n",
    "import scipy.ndimage\n",
    "from sklearn.ensemble import RandomForestClassifier\n",
    "\n",
    "# Some library options\n",
    "pd.options.display.max_rows = 10"
   ]
  },
  {
   "cell_type": "code",
   "execution_count": 2,
   "metadata": {
    "collapsed": false
   },
   "outputs": [
    {
     "name": "stdout",
     "output_type": "stream",
     "text": [
      "Correct number of data points are selected\n"
     ]
    },
    {
     "data": {
      "text/html": [
       "<div>\n",
       "<style>\n",
       "    .dataframe thead tr:only-child th {\n",
       "        text-align: right;\n",
       "    }\n",
       "\n",
       "    .dataframe thead th {\n",
       "        text-align: left;\n",
       "    }\n",
       "\n",
       "    .dataframe tbody tr th {\n",
       "        vertical-align: top;\n",
       "    }\n",
       "</style>\n",
       "<table border=\"1\" class=\"dataframe\">\n",
       "  <thead>\n",
       "    <tr style=\"text-align: right;\">\n",
       "      <th></th>\n",
       "      <th>path</th>\n",
       "      <th>symbol_id</th>\n",
       "      <th>latex</th>\n",
       "      <th>user_id</th>\n",
       "    </tr>\n",
       "  </thead>\n",
       "  <tbody>\n",
       "    <tr>\n",
       "      <th>345</th>\n",
       "      <td>hasy-data/v2-00345.png</td>\n",
       "      <td>70</td>\n",
       "      <td>0</td>\n",
       "      <td>10</td>\n",
       "    </tr>\n",
       "    <tr>\n",
       "      <th>346</th>\n",
       "      <td>hasy-data/v2-00346.png</td>\n",
       "      <td>70</td>\n",
       "      <td>0</td>\n",
       "      <td>31</td>\n",
       "    </tr>\n",
       "    <tr>\n",
       "      <th>347</th>\n",
       "      <td>hasy-data/v2-00347.png</td>\n",
       "      <td>70</td>\n",
       "      <td>0</td>\n",
       "      <td>10</td>\n",
       "    </tr>\n",
       "    <tr>\n",
       "      <th>348</th>\n",
       "      <td>hasy-data/v2-00348.png</td>\n",
       "      <td>70</td>\n",
       "      <td>0</td>\n",
       "      <td>10</td>\n",
       "    </tr>\n",
       "    <tr>\n",
       "      <th>349</th>\n",
       "      <td>hasy-data/v2-00349.png</td>\n",
       "      <td>70</td>\n",
       "      <td>0</td>\n",
       "      <td>10</td>\n",
       "    </tr>\n",
       "    <tr>\n",
       "      <th>...</th>\n",
       "      <td>...</td>\n",
       "      <td>...</td>\n",
       "      <td>...</td>\n",
       "      <td>...</td>\n",
       "    </tr>\n",
       "    <tr>\n",
       "      <th>20823</th>\n",
       "      <td>hasy-data/v2-20823.png</td>\n",
       "      <td>79</td>\n",
       "      <td>9</td>\n",
       "      <td>101356</td>\n",
       "    </tr>\n",
       "    <tr>\n",
       "      <th>20824</th>\n",
       "      <td>hasy-data/v2-20824.png</td>\n",
       "      <td>79</td>\n",
       "      <td>9</td>\n",
       "      <td>116471</td>\n",
       "    </tr>\n",
       "    <tr>\n",
       "      <th>20825</th>\n",
       "      <td>hasy-data/v2-20825.png</td>\n",
       "      <td>79</td>\n",
       "      <td>9</td>\n",
       "      <td>124511</td>\n",
       "    </tr>\n",
       "    <tr>\n",
       "      <th>20826</th>\n",
       "      <td>hasy-data/v2-20826.png</td>\n",
       "      <td>79</td>\n",
       "      <td>9</td>\n",
       "      <td>124916</td>\n",
       "    </tr>\n",
       "    <tr>\n",
       "      <th>20827</th>\n",
       "      <td>hasy-data/v2-20827.png</td>\n",
       "      <td>79</td>\n",
       "      <td>9</td>\n",
       "      <td>125926</td>\n",
       "    </tr>\n",
       "  </tbody>\n",
       "</table>\n",
       "<p>1020 rows × 4 columns</p>\n",
       "</div>"
      ],
      "text/plain": [
       "                         path  symbol_id latex  user_id\n",
       "345    hasy-data/v2-00345.png         70     0       10\n",
       "346    hasy-data/v2-00346.png         70     0       31\n",
       "347    hasy-data/v2-00347.png         70     0       10\n",
       "348    hasy-data/v2-00348.png         70     0       10\n",
       "349    hasy-data/v2-00349.png         70     0       10\n",
       "...                       ...        ...   ...      ...\n",
       "20823  hasy-data/v2-20823.png         79     9   101356\n",
       "20824  hasy-data/v2-20824.png         79     9   116471\n",
       "20825  hasy-data/v2-20825.png         79     9   124511\n",
       "20826  hasy-data/v2-20826.png         79     9   124916\n",
       "20827  hasy-data/v2-20827.png         79     9   125926\n",
       "\n",
       "[1020 rows x 4 columns]"
      ]
     },
     "execution_count": 2,
     "metadata": {},
     "output_type": "execute_result"
    }
   ],
   "source": [
    "data = {'symbols': None, 'images': None}\n",
    "df = pd.read_csv('../data/HASYv2/hasy-data-labels.csv')\n",
    "# Filter out the symbol ids\n",
    "df = df[(df.symbol_id >= 70) & (df.symbol_id <= 80)]\n",
    "\n",
    "# Assert the # of data points\n",
    "if len(df) == 1020:\n",
    "    print('Correct number of data points are selected')\n",
    "else:\n",
    "    print('# of data points are not correct, check filter function after read_csv')\n",
    "\n",
    "df"
   ]
  },
  {
   "cell_type": "code",
   "execution_count": 3,
   "metadata": {
    "collapsed": false
   },
   "outputs": [
    {
     "data": {
      "text/plain": [
       "{'images': array([[ 255.,  255.,  255., ...,  255.,  255.,  255.],\n",
       "        [ 255.,  255.,  255., ...,  255.,  255.,  255.],\n",
       "        [ 255.,  255.,  255., ...,  255.,  255.,  255.],\n",
       "        ..., \n",
       "        [ 255.,  255.,  255., ...,  255.,  255.,  255.],\n",
       "        [ 255.,  255.,  255., ...,  255.,  255.,  255.],\n",
       "        [ 255.,  255.,  255., ...,  255.,  255.,  255.]]),\n",
       " 'size': 1020,\n",
       " 'symbols': array([70, 70, 70, ..., 79, 79, 79], dtype=int64)}"
      ]
     },
     "execution_count": 3,
     "metadata": {},
     "output_type": "execute_result"
    }
   ],
   "source": [
    "imgs = np.zeros((len(df), 32*32))\n",
    "\n",
    "i = 0\n",
    "for idx, row in df.iterrows():\n",
    "    path = '../data/HASYv2/' + row['path']\n",
    "    img = scipy.ndimage.imread(path, flatten=False, mode='L')\n",
    "    imgs[i, :] = img.flatten()\n",
    "    i = i + 1\n",
    "\n",
    "data['symbols'] = df.symbol_id.values\n",
    "data['images'] = imgs\n",
    "data['size'] = len(data['symbols'])\n",
    "\n",
    "data"
   ]
  },
  {
   "cell_type": "code",
   "execution_count": 4,
   "metadata": {
    "collapsed": true
   },
   "outputs": [],
   "source": [
    "train_images, test_images, train_symbols, test_symbols = train_test_split(data['images'], data['symbols'], test_size=0.2, train_size=0.8) # This also shuffles by default"
   ]
  },
  {
   "cell_type": "markdown",
   "metadata": {},
   "source": [
    "# Without tuning the accuracy of the RF classifier"
   ]
  },
  {
   "cell_type": "code",
   "execution_count": 5,
   "metadata": {
    "collapsed": false
   },
   "outputs": [
    {
     "data": {
      "text/plain": [
       "0.99509803921568629"
      ]
     },
     "execution_count": 5,
     "metadata": {},
     "output_type": "execute_result"
    }
   ],
   "source": [
    "rf = RandomForestClassifier()\n",
    "rf = rf.fit(train_images, train_symbols) # X y\n",
    "# Let's check the model's score on the training data\n",
    "rf.score(train_images, train_symbols)"
   ]
  },
  {
   "cell_type": "markdown",
   "metadata": {},
   "source": [
    "## Even on the training data itself it is not 100% score, it was in logistic regression\n",
    "\n",
    "## Lets see accuracy on test data"
   ]
  },
  {
   "cell_type": "code",
   "execution_count": 6,
   "metadata": {
    "collapsed": false
   },
   "outputs": [
    {
     "name": "stdout",
     "output_type": "stream",
     "text": [
      "0.700980392157\n"
     ]
    }
   ],
   "source": [
    "predict = rf.predict(test_images) # shows the prediction result \n",
    "predict_prob = rf.predict_proba(test_images) # shows the prediction probability\n",
    "# Generate evaluation metrics\n",
    "acc_logres = metrics.accuracy_score(test_symbols, predict)\n",
    "print(acc_logres)"
   ]
  },
  {
   "cell_type": "markdown",
   "metadata": {},
   "source": [
    "# Accuracy dropped to ~71% _without_ tuning parameters\n",
    "This is even less than *logistic regression approach*"
   ]
  },
  {
   "cell_type": "markdown",
   "metadata": {},
   "source": [
    "# Increase # of trees in forest and do the same thing"
   ]
  },
  {
   "cell_type": "code",
   "execution_count": 7,
   "metadata": {
    "collapsed": true
   },
   "outputs": [],
   "source": [
    "def rf_classifier(forest_size):\n",
    "    rf = RandomForestClassifier(n_estimators=forest_size)\n",
    "    rf = rf.fit(train_images, train_symbols)\n",
    "    predict = rf.predict(test_images) # shows the prediction result \n",
    "    predict_prob = rf.predict_proba(test_images) # shows the prediction probability\n",
    "    # Generate evaluation metrics\n",
    "    acc_logres = metrics.accuracy_score(test_symbols, predict)\n",
    "    return acc_logres"
   ]
  },
  {
   "cell_type": "code",
   "execution_count": 8,
   "metadata": {
    "collapsed": false
   },
   "outputs": [],
   "source": [
    "rf_notune_models = []\n",
    "for i in range(1,21):\n",
    "    forest_size = i * 10\n",
    "    accuracy = rf_classifier(forest_size)\n",
    "    model = {'size': forest_size, 'accuracy': accuracy}\n",
    "    rf_notune_models.append(model)"
   ]
  },
  {
   "cell_type": "markdown",
   "metadata": {},
   "source": [
    "# Plot the whole random forests to see their accuracy"
   ]
  },
  {
   "cell_type": "code",
   "execution_count": 9,
   "metadata": {
    "collapsed": false
   },
   "outputs": [
    {
     "data": {
      "image/png": "[encoded data removed]",
      "text/plain": [
       "<matplotlib.figure.Figure at 0x82cfb30>"
      ]
     },
     "metadata": {},
     "output_type": "display_data"
    },
    {
     "name": "stdout",
     "output_type": "stream",
     "text": [
      "accuracy      0.852941\n",
      "size        200.000000\n",
      "dtype: float64\n"
     ]
    }
   ],
   "source": [
    "nt_rf = pd.DataFrame.from_dict(rf_notune_models)\n",
    "plt.plot(nt_rf['size'].values, nt_rf['accuracy'].values, 'k')\n",
    "plt.axis([0, 200, 0.0, 1.0])\n",
    "plt.title(\"Accuracy*forest_size plot - Overfit\")\n",
    "plt.show()\n",
    "\n",
    "print(nt_rf.max())"
   ]
  },
  {
   "cell_type": "markdown",
   "metadata": {},
   "source": [
    "# Now reshuffle and make the validation set"
   ]
  },
  {
   "cell_type": "code",
   "execution_count": 10,
   "metadata": {
    "collapsed": true
   },
   "outputs": [],
   "source": [
    "def train_test_validation(dX, dY, size_arr=[0.8, 0.2, 0.2]):\n",
    "    x_train, x_test, y_train, y_test = train_test_split(dX, dY, test_size=size_arr[1])\n",
    "    x_train, x_val, y_train, y_val = train_test_split(x_train, y_train, test_size=size_arr[2])\n",
    "    return x_train, x_test, x_val, y_train, y_test, y_val"
   ]
  },
  {
   "cell_type": "code",
   "execution_count": 11,
   "metadata": {
    "collapsed": false
   },
   "outputs": [],
   "source": [
    "train_images, test_images, val_images, train_symbols, test_symbols, val_symbols = train_test_validation(data['images'], data['symbols'])"
   ]
  },
  {
   "cell_type": "code",
   "execution_count": 12,
   "metadata": {
    "collapsed": true
   },
   "outputs": [],
   "source": [
    "def rf_classifier_validation_train(forest_size):\n",
    "    rf = RandomForestClassifier(n_estimators=forest_size)\n",
    "    rf = rf.fit(train_images, train_symbols)\n",
    "    predict = rf.predict(val_images)\n",
    "    # Generate evaluation metrics\n",
    "    acc_logres = metrics.accuracy_score(val_symbols, predict)\n",
    "    return acc_logres"
   ]
  },
  {
   "cell_type": "code",
   "execution_count": 13,
   "metadata": {
    "collapsed": true
   },
   "outputs": [],
   "source": [
    "rf_notune_models2 = []\n",
    "for i in range(1,21):\n",
    "    forest_size = i * 10\n",
    "    accuracy = rf_classifier(forest_size)\n",
    "    model = {'size': forest_size, 'accuracy': accuracy}\n",
    "    rf_notune_models2.append(model)\n",
    "rftune = pd.DataFrame.from_dict(rf_notune_models2)\n",
    "dftune_max = rftune.max()"
   ]
  },
  {
   "cell_type": "code",
   "execution_count": 14,
   "metadata": {
    "collapsed": false
   },
   "outputs": [],
   "source": [
    "dftune_max_accsize = int(dftune_max['size'])"
   ]
  },
  {
   "cell_type": "markdown",
   "metadata": {},
   "source": [
    "# Now test the found size with the test set"
   ]
  },
  {
   "cell_type": "code",
   "execution_count": 15,
   "metadata": {
    "collapsed": false
   },
   "outputs": [
    {
     "data": {
      "text/plain": [
       "0.89215686274509809"
      ]
     },
     "execution_count": 15,
     "metadata": {},
     "output_type": "execute_result"
    }
   ],
   "source": [
    "rf_classifier(dftune_max_accsize)\n"
   ]
  },
  {
   "cell_type": "markdown",
   "metadata": {
    "collapsed": true
   },
   "source": [
    "# Lets try TPOT module\n",
    " TPOT, an automated ML solution that finds a good model and a good set of hyperparameters automatically. "
   ]
  },
  {
   "cell_type": "code",
   "execution_count": 16,
   "metadata": {
    "collapsed": false
   },
   "outputs": [],
   "source": [
    "from tpot import TPOTClassifier"
   ]
  },
  {
   "cell_type": "code",
   "execution_count": 17,
   "metadata": {
    "collapsed": false
   },
   "outputs": [
    {
     "name": "stdout",
     "output_type": "stream",
     "text": [
      "Warning: Although parallelization is currently supported in TPOT for Windows, pressing Ctrl+C will freeze the optimization process without saving the best pipeline! Thus, Please DO NOT press Ctrl+C during the optimization procss if n_jobs is not equal to 1. For quick test in Windows, please set n_jobs to 1 for saving the best pipeline in the middle of the optimization process via Ctrl+C.\n"
     ]
    },
    {
     "data": {
      "text/plain": [
       "TPOTClassifier(config_dict={'sklearn.naive_bayes.BernoulliNB': {'alpha': [0.001, 0.01, 0.1, 1.0, 10.0, 100.0], 'fit_prior': [True, False]}, 'sklearn.preprocessing.StandardScaler': {}, 'sklearn.tree.DecisionTreeClassifier': {'criterion': ['gini', 'entropy'], 'min_samples_leaf': range(1, 21), 'max_depth': range(1, 1...e_bayes.MultinomialNB': {'alpha': [0.001, 0.01, 0.1, 1.0, 10.0, 100.0], 'fit_prior': [True, False]}},\n",
       "        crossover_rate=0.1, cv=5, disable_update_check=False,\n",
       "        generations=5, max_eval_time_mins=5, max_time_mins=None,\n",
       "        mutation_rate=0.9, n_jobs=4, offspring_size=20, population_size=20,\n",
       "        random_state=None, scoring=None, subsample=1.0, verbosity=0,\n",
       "        warm_start=False)"
      ]
     },
     "execution_count": 17,
     "metadata": {},
     "output_type": "execute_result"
    }
   ],
   "source": [
    "train_images, test_images, train_symbols, test_symbols = train_test_split(data['images'], data['symbols'], test_size=0.2, train_size=0.8) # This also shuffles by default\n",
    "\n",
    "tpot_c = TPOTClassifier(generations=5, population_size=20, n_jobs=4, config_dict='TPOT light')\n",
    "tpot_c.fit(train_images, train_symbols)"
   ]
  },
  {
   "cell_type": "code",
   "execution_count": 18,
   "metadata": {
    "collapsed": false
   },
   "outputs": [
    {
     "data": {
      "text/plain": [
       "0.90686274509803921"
      ]
     },
     "execution_count": 18,
     "metadata": {},
     "output_type": "execute_result"
    }
   ],
   "source": [
    "tpot_c.score(test_images, test_symbols)"
   ]
  },
  {
   "cell_type": "code",
   "execution_count": 19,
   "metadata": {
    "collapsed": true
   },
   "outputs": [],
   "source": [
    "tpot_c.export('tpot_best_model.py')"
   ]
  }
 ],
 "metadata": {
  "kernelspec": {
   "display_name": "Python 3",
   "language": "python",
   "name": "python3"
  },
  "language_info": {
   "codemirror_mode": {
    "name": "ipython",
    "version": 3
   },
   "file_extension": ".py",
   "mimetype": "text/x-python",
   "name": "python",
   "nbconvert_exporter": "python",
   "pygments_lexer": "ipython3",
   "version": "3.5.2"
  }
 },
 "nbformat": 4,
 "nbformat_minor": 2
}
