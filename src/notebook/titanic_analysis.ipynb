{
 "cells": [
  {
   "cell_type": "markdown",
   "metadata": {},
   "source": [
    "## Week 2 - Titanic dataset analysis\n",
    "\n",
    "In this exercise, we'll continue to study the Titanic data set which was used in Exercise 1.1. Now that we have preprocessed it a bit, it's time to do some exploratory data analysis.\n",
    "\n",
    "\n",
    "- To give a more complete picture of the two groups, provide graphical displays of the distribution of the variables in each group whenever appropriate (not, e.g., on the ticket number).\n",
    "\n",
    "- One step further is the analysis of pairwise and multivariate relationships between the variables in the two groups. Try to visualize two variables at a time using, e.g., scatter plots and use a different color to display the survival status. Hint: to better show many data points with the same value for a given variable, you can use either transparency of 'jitter'.\n",
    "\n",
    "- Try to come up with visualizations that best brings forth the differences between the two groups of passengers.\n",
    "\n",
    "- Finally, recall the preprocessing that was carried out in last week's exercises. Can you say something about the effect of the choices that were made, in particular, to use the mode or the mean to impute missing values, instead of, for example, ignoring passengers with missing data?"
   ]
  },
  {
   "cell_type": "markdown",
   "metadata": {},
   "source": [
    "# Data Dictionary\n",
    "\n",
    "### Variable\tDefinition\tKey\n",
    "survival\tSurvival 0 = No, 1 = Yes\n",
    "\n",
    "pclass\tTicket class 1 = 1st, 2 = 2nd, 3 = 3rd\n",
    "\n",
    "sex\tSex\n",
    "\n",
    "Age\tAge in years\t\n",
    "\n",
    "sibsp\t# of siblings / spouses aboard the Titanic\t\n",
    "\n",
    "parch\t# of parents / children aboard the Titanic\t\n",
    "\n",
    "ticket\tTicket number\t\n",
    "\n",
    "fare\tPassenger fare\t\n",
    "\n",
    "cabin\tCabin number\t\n",
    "\n",
    "embarked\tPort of Embarkation\tC = Cherbourg, Q = Queenstown, S = Southampton\n",
    "\n",
    "\n",
    "## Variable Notes\n",
    "\n",
    "pclass: A proxy for socio-economic status (SES)\n",
    "1st = Upper\n",
    "2nd = Middle\n",
    "3rd = Lower\n",
    "\n",
    "age: Age is fractional if less than 1. If the age is estimated, is it in the form of xx.5\n",
    "\n",
    "sibsp: The dataset defines family relations in this way...\n",
    "Sibling = brother, sister, stepbrother, stepsister\n",
    "Spouse = husband, wife (mistresses and fiancés were ignored)\n",
    "\n",
    "parch: The dataset defines family relations in this way...\n",
    "Parent = mother, father\n",
    "Child = daughter, son, stepdaughter, stepson\n",
    "Some children travelled only with a nanny, therefore parch=0 for them.\n"
   ]
  },
  {
   "cell_type": "code",
   "execution_count": 2,
   "metadata": {
    "collapsed": false
   },
   "outputs": [],
   "source": [
    "import pandas as pd\n",
    "import qgrid\n",
    "qgrid.nbinstall(overwrite=True)  # copies javascript dependencies to your /nbextensions folder\n",
    "qgrid.set_defaults(remote_js=True)"
   ]
  },
  {
   "cell_type": "code",
   "execution_count": 3,
   "metadata": {
    "collapsed": false
   },
   "outputs": [
    {
     "data": {
      "text/html": [
       "<div>\n",
       "<style>\n",
       "    .dataframe thead tr:only-child th {\n",
       "        text-align: right;\n",
       "    }\n",
       "\n",
       "    .dataframe thead th {\n",
       "        text-align: left;\n",
       "    }\n",
       "\n",
       "    .dataframe tbody tr th {\n",
       "        vertical-align: top;\n",
       "    }\n",
       "</style>\n",
       "<table border=\"1\" class=\"dataframe\">\n",
       "  <thead>\n",
       "    <tr style=\"text-align: right;\">\n",
       "      <th></th>\n",
       "      <th>PassengerId</th>\n",
       "      <th>Survived</th>\n",
       "      <th>Pclass</th>\n",
       "      <th>Sex</th>\n",
       "      <th>Age</th>\n",
       "      <th>SibSp</th>\n",
       "      <th>Parch</th>\n",
       "      <th>Fare</th>\n",
       "      <th>Embarked</th>\n",
       "      <th>Deck</th>\n",
       "      <th>Sex_num</th>\n",
       "      <th>Embarked_num</th>\n",
       "      <th>Deck_num</th>\n",
       "    </tr>\n",
       "  </thead>\n",
       "  <tbody>\n",
       "    <tr>\n",
       "      <th>0</th>\n",
       "      <td>1</td>\n",
       "      <td>0</td>\n",
       "      <td>3</td>\n",
       "      <td>male</td>\n",
       "      <td>22</td>\n",
       "      <td>1</td>\n",
       "      <td>0</td>\n",
       "      <td>7.2500</td>\n",
       "      <td>S</td>\n",
       "      <td>C</td>\n",
       "      <td>0</td>\n",
       "      <td>0</td>\n",
       "      <td>0</td>\n",
       "    </tr>\n",
       "    <tr>\n",
       "      <th>1</th>\n",
       "      <td>2</td>\n",
       "      <td>1</td>\n",
       "      <td>1</td>\n",
       "      <td>female</td>\n",
       "      <td>38</td>\n",
       "      <td>1</td>\n",
       "      <td>0</td>\n",
       "      <td>71.2833</td>\n",
       "      <td>C</td>\n",
       "      <td>C</td>\n",
       "      <td>1</td>\n",
       "      <td>1</td>\n",
       "      <td>0</td>\n",
       "    </tr>\n",
       "    <tr>\n",
       "      <th>2</th>\n",
       "      <td>3</td>\n",
       "      <td>1</td>\n",
       "      <td>3</td>\n",
       "      <td>female</td>\n",
       "      <td>26</td>\n",
       "      <td>0</td>\n",
       "      <td>0</td>\n",
       "      <td>7.9250</td>\n",
       "      <td>S</td>\n",
       "      <td>C</td>\n",
       "      <td>1</td>\n",
       "      <td>0</td>\n",
       "      <td>0</td>\n",
       "    </tr>\n",
       "    <tr>\n",
       "      <th>3</th>\n",
       "      <td>4</td>\n",
       "      <td>1</td>\n",
       "      <td>1</td>\n",
       "      <td>female</td>\n",
       "      <td>35</td>\n",
       "      <td>1</td>\n",
       "      <td>0</td>\n",
       "      <td>53.1000</td>\n",
       "      <td>S</td>\n",
       "      <td>C</td>\n",
       "      <td>1</td>\n",
       "      <td>0</td>\n",
       "      <td>0</td>\n",
       "    </tr>\n",
       "    <tr>\n",
       "      <th>...</th>\n",
       "      <td>...</td>\n",
       "      <td>...</td>\n",
       "      <td>...</td>\n",
       "      <td>...</td>\n",
       "      <td>...</td>\n",
       "      <td>...</td>\n",
       "      <td>...</td>\n",
       "      <td>...</td>\n",
       "      <td>...</td>\n",
       "      <td>...</td>\n",
       "      <td>...</td>\n",
       "      <td>...</td>\n",
       "      <td>...</td>\n",
       "    </tr>\n",
       "    <tr>\n",
       "      <th>887</th>\n",
       "      <td>888</td>\n",
       "      <td>1</td>\n",
       "      <td>1</td>\n",
       "      <td>female</td>\n",
       "      <td>19</td>\n",
       "      <td>0</td>\n",
       "      <td>0</td>\n",
       "      <td>30.0000</td>\n",
       "      <td>S</td>\n",
       "      <td>B</td>\n",
       "      <td>1</td>\n",
       "      <td>0</td>\n",
       "      <td>5</td>\n",
       "    </tr>\n",
       "    <tr>\n",
       "      <th>888</th>\n",
       "      <td>889</td>\n",
       "      <td>0</td>\n",
       "      <td>3</td>\n",
       "      <td>female</td>\n",
       "      <td>30</td>\n",
       "      <td>1</td>\n",
       "      <td>2</td>\n",
       "      <td>23.4500</td>\n",
       "      <td>S</td>\n",
       "      <td>C</td>\n",
       "      <td>1</td>\n",
       "      <td>0</td>\n",
       "      <td>0</td>\n",
       "    </tr>\n",
       "    <tr>\n",
       "      <th>889</th>\n",
       "      <td>890</td>\n",
       "      <td>1</td>\n",
       "      <td>1</td>\n",
       "      <td>male</td>\n",
       "      <td>26</td>\n",
       "      <td>0</td>\n",
       "      <td>0</td>\n",
       "      <td>30.0000</td>\n",
       "      <td>C</td>\n",
       "      <td>C</td>\n",
       "      <td>0</td>\n",
       "      <td>1</td>\n",
       "      <td>0</td>\n",
       "    </tr>\n",
       "    <tr>\n",
       "      <th>890</th>\n",
       "      <td>891</td>\n",
       "      <td>0</td>\n",
       "      <td>3</td>\n",
       "      <td>male</td>\n",
       "      <td>32</td>\n",
       "      <td>0</td>\n",
       "      <td>0</td>\n",
       "      <td>7.7500</td>\n",
       "      <td>Q</td>\n",
       "      <td>C</td>\n",
       "      <td>0</td>\n",
       "      <td>2</td>\n",
       "      <td>0</td>\n",
       "    </tr>\n",
       "  </tbody>\n",
       "</table>\n",
       "<p>891 rows × 13 columns</p>\n",
       "</div>"
      ],
      "text/plain": [
       "     PassengerId  Survived  Pclass     Sex  Age  SibSp  Parch     Fare  \\\n",
       "0              1         0       3    male   22      1      0   7.2500   \n",
       "1              2         1       1  female   38      1      0  71.2833   \n",
       "2              3         1       3  female   26      0      0   7.9250   \n",
       "3              4         1       1  female   35      1      0  53.1000   \n",
       "..           ...       ...     ...     ...  ...    ...    ...      ...   \n",
       "887          888         1       1  female   19      0      0  30.0000   \n",
       "888          889         0       3  female   30      1      2  23.4500   \n",
       "889          890         1       1    male   26      0      0  30.0000   \n",
       "890          891         0       3    male   32      0      0   7.7500   \n",
       "\n",
       "    Embarked Deck  Sex_num  Embarked_num  Deck_num  \n",
       "0          S    C        0             0         0  \n",
       "1          C    C        1             1         0  \n",
       "2          S    C        1             0         0  \n",
       "3          S    C        1             0         0  \n",
       "..       ...  ...      ...           ...       ...  \n",
       "887        S    B        1             0         5  \n",
       "888        S    C        1             0         0  \n",
       "889        C    C        0             1         0  \n",
       "890        Q    C        0             2         0  \n",
       "\n",
       "[891 rows x 13 columns]"
      ]
     },
     "execution_count": 3,
     "metadata": {},
     "output_type": "execute_result"
    }
   ],
   "source": [
    "# Read the dataframe\n",
    "pd.set_option('display.max_rows', 8)\n",
    "df = pd.read_csv('../output/titanic.csv')\n",
    "df"
   ]
  },
  {
   "cell_type": "markdown",
   "metadata": {
    "collapsed": false
   },
   "source": [
    "### 1-) Most frequent values\n",
    "First consider each feature variable in turn. For categorical variables, find out the most frequent value, i.e., the mode. For numerical variables, calculate the median value."
   ]
  },
  {
   "cell_type": "code",
   "execution_count": 4,
   "metadata": {
    "collapsed": false
   },
   "outputs": [],
   "source": [
    "cat_cols = ['Pclass', 'Embarked', 'Deck', 'SibSp', 'Parch']\n",
    "num_cols = ['Age', 'Fare']\n",
    "f_cols = cat_cols + num_cols\n",
    "model = {col: None for col in f_cols}"
   ]
  },
  {
   "cell_type": "code",
   "execution_count": 5,
   "metadata": {
    "collapsed": false
   },
   "outputs": [
    {
     "name": "stdout",
     "output_type": "stream",
     "text": [
      "COL: Pclass        MODE: 3\n",
      "COL: Embarked      MODE: S\n",
      "COL: Deck          MODE: C\n",
      "COL: SibSp         MODE: 0\n",
      "COL: Parch         MODE: 0\n"
     ]
    }
   ],
   "source": [
    "# Categorical values' most freq things\n",
    "for c in cat_cols:\n",
    "    f = df[c].mode()[0]\n",
    "    model[c] = f\n",
    "    print(\"COL: {0:10}    MODE: {1}\".format(c, f))"
   ]
  },
  {
   "cell_type": "code",
   "execution_count": 6,
   "metadata": {
    "collapsed": false
   },
   "outputs": [
    {
     "name": "stdout",
     "output_type": "stream",
     "text": [
      "COL: Age     MEDIAN: 30.0\n",
      "COL: Fare    MEDIAN: 14.4542\n"
     ]
    }
   ],
   "source": [
    "# Numerical values' most freq things\n",
    "for c in num_cols:\n",
    "    f = df[c].median()\n",
    "    model[c] = f\n",
    "    print(\"COL: {0:4}    MEDIAN: {1}\".format(c, f))"
   ]
  },
  {
   "cell_type": "markdown",
   "metadata": {},
   "source": [
    "### 2-) Create Sub-models\n",
    "\n",
    "Combining the modes of the categorical variables, and the medians of the numerical variables, construct an imaginary \"average Joe\" on board of the ship. Also following the same procedure for using subsets of the passengers, construct the \"average survivor Jane\" and the \"average non-survivor Joe\"."
   ]
  },
  {
   "cell_type": "code",
   "execution_count": 7,
   "metadata": {
    "collapsed": false
   },
   "outputs": [
    {
     "data": {
      "text/plain": [
       "{'Age': 30.0,\n",
       " 'Deck': 'C',\n",
       " 'Embarked': 'S',\n",
       " 'Fare': 14.4542,\n",
       " 'Parch': 0,\n",
       " 'Pclass': 3,\n",
       " 'SibSp': 0}"
      ]
     },
     "execution_count": 7,
     "metadata": {},
     "output_type": "execute_result"
    }
   ],
   "source": [
    "model"
   ]
  },
  {
   "cell_type": "code",
   "execution_count": 8,
   "metadata": {
    "collapsed": false
   },
   "outputs": [],
   "source": [
    "def imaginary_model(sex, survived, desc):\n",
    "    m = model.copy()\n",
    "    m['Sex'] = str(sex)\n",
    "    m['Survived'] = int(survived)\n",
    "    m['Description'] = str(desc)\n",
    "    return m"
   ]
  },
  {
   "cell_type": "markdown",
   "metadata": {},
   "source": [
    "### - Create all sub-models using 'most' freq model"
   ]
  },
  {
   "cell_type": "code",
   "execution_count": 9,
   "metadata": {
    "collapsed": false
   },
   "outputs": [],
   "source": [
    "joe = imaginary_model('male', 1, 'Average Surviving Joe')\n",
    "jane = imaginary_model('female', 1, 'Average Surviving Jane')\n",
    "dead_joe = imaginary_model('male', 0, 'Average Dead Joe')\n",
    "dead_jane = imaginary_model('female', 0, 'Average Dead Jane')"
   ]
  },
  {
   "cell_type": "markdown",
   "metadata": {},
   "source": [
    "### 3-) Study distributions\n",
    "\n",
    "- Now study the distributions of the variables in the two groups. How well do the average cases represent the respective groups? Can you find actual passengers that are very similar to the representative of their own group (survivor/non- survivor)? Can you find passengers that are very similar to the representative of the other group?\n",
    "\n",
    "- Note that this task may be hard to complete since it would require that you sift through lots of data. And this is quite a small data set! Find ways to explore the data which facilitate this kind of investigation. You are free to choose your methods: non-graphical/graphical, static/interactive -- anything goes."
   ]
  },
  {
   "cell_type": "code",
   "execution_count": 10,
   "metadata": {
    "collapsed": false
   },
   "outputs": [
    {
     "data": {
      "text/plain": [
       "{'Age': 30.0,\n",
       " 'Deck': 'C',\n",
       " 'Description': 'Average Surviving Jane',\n",
       " 'Embarked': 'S',\n",
       " 'Fare': 14.4542,\n",
       " 'Parch': 0,\n",
       " 'Pclass': 3,\n",
       " 'Sex': 'female',\n",
       " 'SibSp': 0,\n",
       " 'Survived': 1}"
      ]
     },
     "execution_count": 10,
     "metadata": {},
     "output_type": "execute_result"
    }
   ],
   "source": [
    "jane"
   ]
  },
  {
   "cell_type": "markdown",
   "metadata": {},
   "source": [
    "### Average Joe record\n",
    "- Survive = 1, Pclass = 3, Sex = male, Age = 30,31, Deck = C\n",
    "    - Found 11 people\n",
    "- Fare doesn't correlate about survival\n",
    "- Pclass = 3 has more survivor, but it is still small dataset\n",
    "- Example passenger, Index 17\n",
    "    - Almost fits, Fare is 13\n",
    "\n",
    "### Average Jane record\n",
    "- Average Jane fitted onto more people with same specifications\n",
    "    - More than 11 people, approx. 25\n",
    "- Example passengers, Index: 79, 747, Again Fare not exact, but close\n",
    "\n",
    "### Dead Joe\n",
    "- There are even more dead joes\n",
    "- Index 496\n",
    "\n",
    "### Dead Jane\n",
    "- Looks like dead janes are as much as the survived janes\n",
    "- Index 141"
   ]
  },
  {
   "cell_type": "code",
   "execution_count": 11,
   "metadata": {
    "collapsed": false
   },
   "outputs": [],
   "source": [
    "qgrid.show_grid(df[(df.Survived == 0) & (df.Pclass == 3) & (df.Age <= 31.0) & (df.Age >= 29.0) & (df.Deck == 'C')])"
   ]
  },
  {
   "cell_type": "markdown",
   "metadata": {},
   "source": [
    "### 4-)Plotting\n",
    "To give a more complete picture of the two groups, provide graphical displays of the distribution of the variables in each group whenever appropriate (not, e.g., on the ticket number)."
   ]
  },
  {
   "cell_type": "code",
   "execution_count": 12,
   "metadata": {
    "collapsed": false
   },
   "outputs": [],
   "source": [
    "def deck_counter(sex, survival):\n",
    "    series = pd.Series(0, index=df.Deck.unique())\n",
    "    for c in series.keys():\n",
    "            series.loc[c] = len(df[(df.Sex == sex) & (df.Survived == survival) & (df.Deck == c)])\n",
    "    return series"
   ]
  },
  {
   "cell_type": "code",
   "execution_count": 13,
   "metadata": {
    "collapsed": false
   },
   "outputs": [],
   "source": [
    "ms_decks = deck_counter('male', 1)\n",
    "md_decks = deck_counter('male', 0)\n",
    "male_decks = pd.concat([ms_decks, md_decks], axis=1)\n",
    "male_decks.columns = ['MaleSurvived', 'MaleDead']"
   ]
  },
  {
   "cell_type": "code",
   "execution_count": 14,
   "metadata": {
    "collapsed": true
   },
   "outputs": [],
   "source": [
    "fs_decks = deck_counter('female', 1)\n",
    "fd_decks = deck_counter('female', 0)\n",
    "female_decks = pd.concat([fs_decks, fd_decks], axis=1)\n",
    "female_decks.columns = ['FemaleSurvived', 'FemaleDead']"
   ]
  },
  {
   "cell_type": "code",
   "execution_count": 15,
   "metadata": {
    "collapsed": true
   },
   "outputs": [],
   "source": [
    "%matplotlib inline"
   ]
  },
  {
   "cell_type": "code",
   "execution_count": 16,
   "metadata": {
    "collapsed": false
   },
   "outputs": [
    {
     "data": {
      "text/plain": [
       "<matplotlib.axes._subplots.AxesSubplot at 0x4d13a10>"
      ]
     },
     "execution_count": 16,
     "metadata": {},
     "output_type": "execute_result"
    },
    {
     "data": {
      "image/png": "[encoded data removed]",
      "text/plain": [
       "<matplotlib.figure.Figure at 0x4d13710>"
      ]
     },
     "metadata": {},
     "output_type": "display_data"
    }
   ],
   "source": [
    "male_decks.plot.bar()"
   ]
  },
  {
   "cell_type": "code",
   "execution_count": 17,
   "metadata": {
    "collapsed": false
   },
   "outputs": [
    {
     "data": {
      "text/plain": [
       "<matplotlib.axes._subplots.AxesSubplot at 0x7eb01f0>"
      ]
     },
     "execution_count": 17,
     "metadata": {},
     "output_type": "execute_result"
    },
    {
     "data": {
      "image/png": "[encoded data removed]",
      "text/plain": [
       "<matplotlib.figure.Figure at 0x7ef5250>"
      ]
     },
     "metadata": {},
     "output_type": "display_data"
    }
   ],
   "source": [
    "female_decks.plot.bar(colormap='winter')"
   ]
  },
  {
   "cell_type": "markdown",
   "metadata": {
    "collapsed": false
   },
   "source": [
    "### Try to get the Survival rate across the age\n",
    "- X axis shows the Age distribution\n",
    "- Y axis shows the number of people that is Survived\n",
    "    - We can also put the dead line as well to show the downwards trend\n",
    "### Show with the line charts"
   ]
  },
  {
   "cell_type": "code",
   "execution_count": 30,
   "metadata": {
    "collapsed": false
   },
   "outputs": [
    {
     "data": {
      "text/html": [
       "<script>requirejs.config({paths: { 'plotly': ['https://cdn.plot.ly/plotly-latest.min']},});if(!window.Plotly) {{require(['plotly'],function(plotly) {window.Plotly=plotly;});}}</script>"
      ],
      "text/vnd.plotly.v1+html": [
       "<script>requirejs.config({paths: { 'plotly': ['https://cdn.plot.ly/plotly-latest.min']},});if(!window.Plotly) {{require(['plotly'],function(plotly) {window.Plotly=plotly;});}}</script>"
      ]
     },
     "metadata": {},
     "output_type": "display_data"
    }
   ],
   "source": [
    "from plotly.offline import download_plotlyjs, init_notebook_mode, plot, iplot\n",
    "import plotly.graph_objs as go\n",
    "init_notebook_mode(connected=True)"
   ]
  },
  {
   "cell_type": "code",
   "execution_count": 104,
   "metadata": {
    "collapsed": false
   },
   "outputs": [
    {
     "name": "stdout",
     "output_type": "stream",
     "text": [
      "      a\n",
      "a s    \n",
      "0 1   0\n",
      "1 1  11\n",
      "2 1   6\n",
      "3 1  15\n",
      "4 1  28\n",
      "7\n"
     ]
    }
   ],
   "source": [
    "surv_age = pd.DataFrame()\n",
    "surv_age['s'] = df['Survived']\n",
    "surv_age['a'] = df['Age']\n",
    "ages = pd.Series()\n",
    "ages = surv_age.a.unique()\n",
    "\n",
    "print(ss.head(5))\n",
    "print(len(df.Age[(df.Age == 4) & (df.Survived == 1)]))\n",
    "ages.sort()\n",
    "age_surv = []\n",
    "for a in ages:\n",
    "    d = {'age': a, 'np': len(df.Age[(df.Age == a) & (df.Survived == 1)])}\n",
    "    age_surv.append(d)\n",
    "as_df = pd.DataFrame(age_surv)\n",
    "age_dead = []\n",
    "for a in ages:\n",
    "    d = {'age': a, 'np': len(df.Age[(df.Age == a) & (df.Survived == 0)])}\n",
    "    age_dead.append(d)\n",
    "ad_df = pd.DataFrame(age_dead)"
   ]
  },
  {
   "cell_type": "code",
   "execution_count": 113,
   "metadata": {
    "collapsed": false
   },
   "outputs": [
    {
     "data": {
      "application/vnd.plotly.v1+json": {
       "data": [
        {
         "name": "Survived",
         "type": "bar",
         "x": [
          0,
          1,
          2,
          3,
          4,
          5,
          6,
          7,
          8,
          9,
          10,
          11,
          12,
          13,
          14,
          15,
          16,
          17,
          18,
          19,
          20,
          21,
          22,
          23,
          24,
          25,
          26,
          27,
          28,
          29,
          30,
          31,
          32,
          33,
          34,
          35,
          36,
          37,
          38,
          39,
          40,
          41,
          42,
          43,
          44,
          45,
          46,
          47,
          48,
          49,
          50,
          51,
          52,
          53,
          54,
          55,
          56,
          57,
          58,
          59,
          60,
          61,
          62,
          63,
          64,
          65,
          66,
          70,
          71,
          74,
          80
         ],
         "y": [
          1,
          11,
          3,
          5,
          7,
          4,
          2,
          1,
          2,
          2,
          0,
          1,
          1,
          2,
          3,
          4,
          6,
          6,
          9,
          9,
          3,
          5,
          11,
          5,
          15,
          6,
          6,
          11,
          7,
          8,
          62,
          8,
          10,
          6,
          6,
          11,
          11,
          1,
          5,
          5,
          6,
          2,
          6,
          1,
          3,
          5,
          0,
          1,
          6,
          4,
          5,
          2,
          3,
          1,
          3,
          1,
          2,
          0,
          3,
          0,
          2,
          0,
          2,
          2,
          0,
          0,
          0,
          0,
          0,
          0,
          1
         ]
        },
        {
         "name": "Dead",
         "type": "bar",
         "x": [
          0,
          1,
          2,
          3,
          4,
          5,
          6,
          7,
          8,
          9,
          10,
          11,
          12,
          13,
          14,
          15,
          16,
          17,
          18,
          19,
          20,
          21,
          22,
          23,
          24,
          25,
          26,
          27,
          28,
          29,
          30,
          31,
          32,
          33,
          34,
          35,
          36,
          37,
          38,
          39,
          40,
          41,
          42,
          43,
          44,
          45,
          46,
          47,
          48,
          49,
          50,
          51,
          52,
          53,
          54,
          55,
          56,
          57,
          58,
          59,
          60,
          61,
          62,
          63,
          64,
          65,
          66,
          70,
          71,
          74,
          80
         ],
         "y": [
          0,
          2,
          7,
          1,
          3,
          0,
          1,
          2,
          2,
          6,
          2,
          3,
          0,
          0,
          4,
          1,
          11,
          7,
          17,
          16,
          13,
          19,
          16,
          10,
          17,
          17,
          12,
          7,
          20,
          12,
          142,
          9,
          10,
          9,
          10,
          7,
          12,
          5,
          6,
          9,
          9,
          4,
          7,
          4,
          6,
          7,
          5,
          8,
          3,
          2,
          5,
          5,
          3,
          0,
          5,
          1,
          3,
          2,
          2,
          2,
          2,
          3,
          2,
          0,
          2,
          3,
          1,
          3,
          2,
          1,
          0
         ]
        }
       ],
       "layout": {
        "barmode": "stack"
       }
      },
      "text/html": [
       "<div id=\"bc3a8be8-045c-4834-a4b2-b8323cc7b458\" style=\"height: 525px; width: 100%;\" class=\"plotly-graph-div\"></div><script type=\"text/javascript\">require([\"plotly\"], function(Plotly) { window.PLOTLYENV=window.PLOTLYENV || {};window.PLOTLYENV.BASE_URL=\"https://plot.ly\";Plotly.newPlot(\"bc3a8be8-045c-4834-a4b2-b8323cc7b458\", [{\"name\": \"Survived\", \"y\": [1, 11, 3, 5, 7, 4, 2, 1, 2, 2, 0, 1, 1, 2, 3, 4, 6, 6, 9, 9, 3, 5, 11, 5, 15, 6, 6, 11, 7, 8, 62, 8, 10, 6, 6, 11, 11, 1, 5, 5, 6, 2, 6, 1, 3, 5, 0, 1, 6, 4, 5, 2, 3, 1, 3, 1, 2, 0, 3, 0, 2, 0, 2, 2, 0, 0, 0, 0, 0, 0, 1], \"type\": \"bar\", \"x\": [0, 1, 2, 3, 4, 5, 6, 7, 8, 9, 10, 11, 12, 13, 14, 15, 16, 17, 18, 19, 20, 21, 22, 23, 24, 25, 26, 27, 28, 29, 30, 31, 32, 33, 34, 35, 36, 37, 38, 39, 40, 41, 42, 43, 44, 45, 46, 47, 48, 49, 50, 51, 52, 53, 54, 55, 56, 57, 58, 59, 60, 61, 62, 63, 64, 65, 66, 70, 71, 74, 80]}, {\"name\": \"Dead\", \"y\": [0, 2, 7, 1, 3, 0, 1, 2, 2, 6, 2, 3, 0, 0, 4, 1, 11, 7, 17, 16, 13, 19, 16, 10, 17, 17, 12, 7, 20, 12, 142, 9, 10, 9, 10, 7, 12, 5, 6, 9, 9, 4, 7, 4, 6, 7, 5, 8, 3, 2, 5, 5, 3, 0, 5, 1, 3, 2, 2, 2, 2, 3, 2, 0, 2, 3, 1, 3, 2, 1, 0], \"type\": \"bar\", \"x\": [0, 1, 2, 3, 4, 5, 6, 7, 8, 9, 10, 11, 12, 13, 14, 15, 16, 17, 18, 19, 20, 21, 22, 23, 24, 25, 26, 27, 28, 29, 30, 31, 32, 33, 34, 35, 36, 37, 38, 39, 40, 41, 42, 43, 44, 45, 46, 47, 48, 49, 50, 51, 52, 53, 54, 55, 56, 57, 58, 59, 60, 61, 62, 63, 64, 65, 66, 70, 71, 74, 80]}], {\"barmode\": \"stack\"}, {\"linkText\": \"Export to plot.ly\", \"showLink\": true})});</script>"
      ],
      "text/vnd.plotly.v1+html": [
       "<div id=\"bc3a8be8-045c-4834-a4b2-b8323cc7b458\" style=\"height: 525px; width: 100%;\" class=\"plotly-graph-div\"></div><script type=\"text/javascript\">require([\"plotly\"], function(Plotly) { window.PLOTLYENV=window.PLOTLYENV || {};window.PLOTLYENV.BASE_URL=\"https://plot.ly\";Plotly.newPlot(\"bc3a8be8-045c-4834-a4b2-b8323cc7b458\", [{\"name\": \"Survived\", \"y\": [1, 11, 3, 5, 7, 4, 2, 1, 2, 2, 0, 1, 1, 2, 3, 4, 6, 6, 9, 9, 3, 5, 11, 5, 15, 6, 6, 11, 7, 8, 62, 8, 10, 6, 6, 11, 11, 1, 5, 5, 6, 2, 6, 1, 3, 5, 0, 1, 6, 4, 5, 2, 3, 1, 3, 1, 2, 0, 3, 0, 2, 0, 2, 2, 0, 0, 0, 0, 0, 0, 1], \"type\": \"bar\", \"x\": [0, 1, 2, 3, 4, 5, 6, 7, 8, 9, 10, 11, 12, 13, 14, 15, 16, 17, 18, 19, 20, 21, 22, 23, 24, 25, 26, 27, 28, 29, 30, 31, 32, 33, 34, 35, 36, 37, 38, 39, 40, 41, 42, 43, 44, 45, 46, 47, 48, 49, 50, 51, 52, 53, 54, 55, 56, 57, 58, 59, 60, 61, 62, 63, 64, 65, 66, 70, 71, 74, 80]}, {\"name\": \"Dead\", \"y\": [0, 2, 7, 1, 3, 0, 1, 2, 2, 6, 2, 3, 0, 0, 4, 1, 11, 7, 17, 16, 13, 19, 16, 10, 17, 17, 12, 7, 20, 12, 142, 9, 10, 9, 10, 7, 12, 5, 6, 9, 9, 4, 7, 4, 6, 7, 5, 8, 3, 2, 5, 5, 3, 0, 5, 1, 3, 2, 2, 2, 2, 3, 2, 0, 2, 3, 1, 3, 2, 1, 0], \"type\": \"bar\", \"x\": [0, 1, 2, 3, 4, 5, 6, 7, 8, 9, 10, 11, 12, 13, 14, 15, 16, 17, 18, 19, 20, 21, 22, 23, 24, 25, 26, 27, 28, 29, 30, 31, 32, 33, 34, 35, 36, 37, 38, 39, 40, 41, 42, 43, 44, 45, 46, 47, 48, 49, 50, 51, 52, 53, 54, 55, 56, 57, 58, 59, 60, 61, 62, 63, 64, 65, 66, 70, 71, 74, 80]}], {\"barmode\": \"stack\"}, {\"linkText\": \"Export to plot.ly\", \"showLink\": true})});</script>"
      ]
     },
     "metadata": {},
     "output_type": "display_data"
    }
   ],
   "source": [
    "trace1 = go.Bar(\n",
    "            x=as_df.age,\n",
    "            y=as_df.np,\n",
    "    name='Survived'\n",
    ")\n",
    "\n",
    "trace2 = go.Bar(\n",
    "            x=ad_df.age,\n",
    "            y=ad_df.np,\n",
    "    name='Dead'\n",
    ")\n",
    "\n",
    "\n",
    "data = [trace1, trace2]\n",
    "layout = go.Layout(\n",
    "    barmode='stack'\n",
    ")\n",
    "\n",
    "fig = go.Figure(data=data, layout=layout)\n",
    "iplot(fig, filename='stacked-bar')"
   ]
  },
  {
   "cell_type": "code",
   "execution_count": null,
   "metadata": {
    "collapsed": false
   },
   "outputs": [],
   "source": []
  },
  {
   "cell_type": "code",
   "execution_count": null,
   "metadata": {
    "collapsed": true
   },
   "outputs": [],
   "source": []
  }
 ],
 "metadata": {
  "kernelspec": {
   "display_name": "Python 3",
   "language": "python",
   "name": "python3"
  },
  "language_info": {
   "codemirror_mode": {
    "name": "ipython",
    "version": 3
   },
   "file_extension": ".py",
   "mimetype": "text/x-python",
   "name": "python",
   "nbconvert_exporter": "python",
   "pygments_lexer": "ipython3",
   "version": "3.5.2"
  },
  "widgets": {
   "state": {
    "a4ff67f58c3f4844bf920dc4058fffb6": {
     "views": [
      {
       "cell_index": 16
      }
     ]
    }
   },
   "version": "1.2.0"
  }
 },
 "nbformat": 4,
 "nbformat_minor": 0
}
